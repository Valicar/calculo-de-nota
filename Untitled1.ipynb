{
  "nbformat": 4,
  "nbformat_minor": 0,
  "metadata": {
    "colab": {
      "provenance": [],
      "authorship_tag": "ABX9TyPy2zGvIRVJsvL3n7gDmxPy",
      "include_colab_link": true
    },
    "kernelspec": {
      "name": "python3",
      "display_name": "Python 3"
    },
    "language_info": {
      "name": "python"
    }
  },
  "cells": [
    {
      "cell_type": "markdown",
      "metadata": {
        "id": "view-in-github",
        "colab_type": "text"
      },
      "source": [
        "<a href=\"https://colab.research.google.com/github/Valicar/calculo-de-nota/blob/main/Untitled1.ipynb\" target=\"_parent\"><img src=\"https://colab.research.google.com/assets/colab-badge.svg\" alt=\"Open In Colab\"/></a>"
      ]
    },
    {
      "cell_type": "code",
      "execution_count": 4,
      "metadata": {
        "colab": {
          "base_uri": "https://localhost:8080/"
        },
        "id": "_VlYVM0NsShC",
        "outputId": "9a8d1fab-8acf-4b47-c12b-5d8a7cb4011b"
      },
      "outputs": [
        {
          "output_type": "stream",
          "name": "stdout",
          "text": [
            "digite nota do alumno 10\n",
            "digite nota do alumno 8\n",
            "a nota total é 9.0\n",
            "aprovado..!\n"
          ]
        }
      ],
      "source": [
        "nota1= float(input(\"digite nota do alumno \"))\n",
        "nota2= float(input(\"digite nota do alumno \"))\n",
        "nota= (nota1 + nota2)/2\n",
        "\n",
        "print(f\"a nota total é\", nota)\n",
        "\n",
        "if nota >= 7 and nota <10:\n",
        "    print (\"aprovado..!\")\n",
        "elif nota >= 10:\n",
        "    print (\"aprovado com Distinção!\")    \n",
        "else:\n",
        "    print (\"reprovado\")\n"
      ]
    }
  ]
}